{
 "cells": [
  {
   "cell_type": "code",
   "execution_count": 1,
   "metadata": {
    "_cell_guid": "b1076dfc-b9ad-4769-8c92-a6c4dae69d19",
    "_uuid": "8f2839f25d086af736a60e9eeb907d3b93b6e0e5"
   },
   "outputs": [
    {
     "name": "stdout",
     "output_type": "stream",
     "text": [
      "['notebook (1).ipynb', '.DS_Store', 'Untitled.ipynb', 'test.csv', 'train_sample.csv', 'train.csv', '.ipynb_checkpoints']\n"
     ]
    }
   ],
   "source": [
    "# This Python 3 environment comes with many helpful analytics libraries installed\n",
    "# It is defined by the kaggle/python docker image: https://github.com/kaggle/docker-python\n",
    "# For example, here's several helpful packages to load in \n",
    "\n",
    "import numpy as np # linear algebra\n",
    "import pandas as pd # data processing, CSV file I/O (e.g. pd.read_csv)\n",
    "from sklearn.model_selection import train_test_split\n",
    "from sklearn import tree\n",
    "import gc\n",
    "\n",
    "# Input data files are available in the \"../input/\" directory.\n",
    "# For example, running this (by clicking run or pressing Shift+Enter) will list the files in the input directory\n",
    "\n",
    "import os\n",
    "print(os.listdir(\"./\"))\n",
    "\n",
    "# Any results you write to the current directory are saved as output."
   ]
  },
  {
   "cell_type": "code",
   "execution_count": 2,
   "metadata": {
    "_uuid": "421b234bc26a19041b67e558bad11236e0085f7d"
   },
   "outputs": [],
   "source": [
    "path = './'\n",
    "\n",
    "train_skip = skip = range(1, 140000000)\n",
    "train_cols = ['ip', 'app', 'device', 'os', 'channel', 'click_time', 'is_attributed']\n",
    "test_cols = ['ip', 'app', 'device', 'os', 'channel', 'click_time']\n",
    "dtypes = {\n",
    "        'ip'            : 'uint32',\n",
    "        'app'           : 'uint16',\n",
    "        'device'        : 'uint16',\n",
    "        'os'            : 'uint16',\n",
    "        'channel'       : 'uint16',\n",
    "        'is_attributed' : 'uint8',\n",
    "        'click_id'      : 'uint32'\n",
    "        }"
   ]
  },
  {
   "cell_type": "code",
   "execution_count": null,
   "metadata": {
    "_cell_guid": "79c7e3d0-c299-4dcb-8224-4455121ee9b0",
    "_uuid": "d629ff2d2480ee46fbb7e2d37f6b5fab8052498a"
   },
   "outputs": [
    {
     "name": "stdout",
     "output_type": "stream",
     "text": [
      "loading training data\n"
     ]
    }
   ],
   "source": [
    "print(\"loading training data\")\n",
    "skip = range(1, 140000000)\n",
    "train= pd.read_csv(path + \"train.csv\", skiprows=train_skip, dtype=dtypes, header=0, usecols=train_cols)\n",
    "test = pd.read_csv(path + \"test.csv\", dtype=dtypes, header=0, usecols=test_cols)"
   ]
  },
  {
   "cell_type": "code",
   "execution_count": null,
   "metadata": {
    "_cell_guid": "da194fa3-94cc-43ba-9b58-ae689f930e14",
    "_uuid": "6d3bc6e13be1667baefdb6ebc2a70f4d291605ae"
   },
   "outputs": [],
   "source": [
    "len_train = len(train)\n",
    "train=train.append(test)\n",
    "del test\n",
    "gc.collect()"
   ]
  },
  {
   "cell_type": "code",
   "execution_count": null,
   "metadata": {
    "_uuid": "9511361c255654f2d2bdc8dea0e0aba5f56df075",
    "collapsed": true
   },
   "outputs": [],
   "source": [
    "train['hour'] = pd.to_datetime(train.click_time).dt.hour.astype('uint8')\n",
    "train['day'] = pd.to_datetime(train.click_time).dt.day.astype('uint8')"
   ]
  },
  {
   "cell_type": "code",
   "execution_count": 21,
   "metadata": {
    "_cell_guid": "29382539-9bff-4f10-9623-ec374b7348b3",
    "_uuid": "bfc6e8d8626db3a5a02cb633819ce0a850cd116f"
   },
   "outputs": [],
   "source": [
    "n_chans = train[['ip','day','hour','channel']].groupby(by=['ip','day',\n",
    "          'hour'])[['channel']].count().reset_index().rename(columns={'channel': 'n_channels'})"
   ]
  },
  {
   "cell_type": "code",
   "execution_count": null,
   "metadata": {
    "_cell_guid": "d320e9b2-cfd3-4b68-80ce-ae85a8789dc2",
    "_uuid": "c9b949c7cc813a568bfa804a0130aed8c03d087b",
    "collapsed": true
   },
   "outputs": [],
   "source": []
  },
  {
   "cell_type": "code",
   "execution_count": 6,
   "metadata": {
    "_cell_guid": "4a7414ec-1978-4bf8-b854-e6e0ca75a24b",
    "_uuid": "2d0b7fd5213e9b1675cea225d01b1dc2761eae4e",
    "collapsed": true
   },
   "outputs": [],
   "source": [
    "train_sample[\"hour\"] = pd.to_datetime(train_sample[\"click_time\"]).dt.hour"
   ]
  },
  {
   "cell_type": "code",
   "execution_count": null,
   "metadata": {
    "_cell_guid": "18be4387-2800-478d-84fd-bc11d7e7d49b",
    "_uuid": "a89774cefff0f8a5ec79c53014a744bd160b5188",
    "collapsed": true
   },
   "outputs": [],
   "source": [
    "for ip in ips:\n",
    "    hours = list(train_sample[train_sample[\"ip\"] == ip][\"hour\"])\n",
    "    count = {}\n",
    "    for i in range(24):\n",
    "        count[i] = 0\n",
    "    for i in range(24):\n",
    "        for hour in hours:\n",
    "            if hour == i:\n",
    "                count[i] = count.get(i,0) + 1\n",
    "    freq_dict[ip] = count  "
   ]
  },
  {
   "cell_type": "code",
   "execution_count": null,
   "metadata": {
    "_cell_guid": "6215942d-1ebe-4f3b-bc68-1e9a6f42aa47",
    "_uuid": "b9b41dab8a6135f2d41b34de186d8b9e1ff0ff0a"
   },
   "outputs": [
    {
     "name": "stderr",
     "output_type": "stream",
     "text": [
      "/opt/conda/lib/python3.6/site-packages/ipykernel_launcher.py:5: SettingWithCopyWarning: \n",
      "A value is trying to be set on a copy of a slice from a DataFrame.\n",
      "Try using .loc[row_indexer,col_indexer] = value instead\n",
      "\n",
      "See the caveats in the documentation: http://pandas.pydata.org/pandas-docs/stable/indexing.html#indexing-view-versus-copy\n",
      "  \"\"\"\n"
     ]
    }
   ],
   "source": [
    "dfs = {}\n",
    "for ip in ips:\n",
    "    tmp_df = train_sample[train_sample[\"ip\"] == ip]\n",
    "    for key in freq_dict[ip].keys():\n",
    "        tmp_df[key] = freq_dict[ip][key]\n",
    "    dfs[ip] = tmp_df"
   ]
  },
  {
   "cell_type": "code",
   "execution_count": null,
   "metadata": {
    "_cell_guid": "8cb73302-a0b4-4c83-94d5-3738234b7b9a",
    "_uuid": "42668373c36875937eada555e6ea75d7c20c5547",
    "collapsed": true
   },
   "outputs": [],
   "source": [
    "dfs"
   ]
  },
  {
   "cell_type": "code",
   "execution_count": null,
   "metadata": {
    "_cell_guid": "454981f1-7c7b-46b3-bfeb-61caa4a51d7b",
    "_uuid": "7167d9ac085a689cf0ad53594f67dc5d664cf600",
    "collapsed": true
   },
   "outputs": [],
   "source": []
  }
 ],
 "metadata": {
  "kernelspec": {
   "display_name": "Python 3",
   "language": "python",
   "name": "python3"
  },
  "language_info": {
   "codemirror_mode": {
    "name": "ipython",
    "version": 3
   },
   "file_extension": ".py",
   "mimetype": "text/x-python",
   "name": "python",
   "nbconvert_exporter": "python",
   "pygments_lexer": "ipython3",
   "version": "3.6.4"
  }
 },
 "nbformat": 4,
 "nbformat_minor": 1
}
