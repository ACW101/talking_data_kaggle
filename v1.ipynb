{
 "cells": [
  {
   "cell_type": "code",
   "execution_count": 1,
   "metadata": {
    "_cell_guid": "b1076dfc-b9ad-4769-8c92-a6c4dae69d19",
    "_uuid": "8f2839f25d086af736a60e9eeb907d3b93b6e0e5"
   },
   "outputs": [
    {
     "name": "stdout",
     "output_type": "stream",
     "text": [
      "['.DS_Store', 'test.csv', 'train_sample.csv', 'submission.csv', '.train_sample.csv.swp', '.gitignore', 'train.csv', '.ipynb_checkpoints', 'v1.ipynb', '.git']\n"
     ]
    }
   ],
   "source": [
    "# This Python 3 environment comes with many helpful analytics libraries installed\n",
    "# It is defined by the kaggle/python docker image: https://github.com/kaggle/docker-python\n",
    "# For example, here's several helpful packages to load in \n",
    "\n",
    "import numpy as np # linear algebra\n",
    "import pandas as pd # data processing, CSV file I/O (e.g. pd.read_csv)\n",
    "from sklearn.model_selection import train_test_split\n",
    "from sklearn.ensemble import AdaBoostClassifier\n",
    "from sklearn.tree import DecisionTreeClassifier\n",
    "\n",
    "import gc\n",
    "\n",
    "# Input data files are available in the \"../input/\" directory.\n",
    "# For example, running this (by clicking run or pressing Shift+Enter) will list the files in the input directory\n",
    "\n",
    "import os\n",
    "print(os.listdir(\"./\"))\n",
    "\n",
    "# Any results you write to the current directory are saved as output."
   ]
  },
  {
   "cell_type": "code",
   "execution_count": 2,
   "metadata": {
    "_uuid": "421b234bc26a19041b67e558bad11236e0085f7d"
   },
   "outputs": [],
   "source": [
    "path = './'\n",
    "\n",
    "train_skip = range(1, 140000000)\n",
    "train_cols = ['ip', 'app', 'device', 'os', 'channel', 'click_time', 'is_attributed']\n",
    "test_cols = ['ip', 'app', 'device', 'os', 'channel', 'click_time']\n",
    "dtypes = {\n",
    "        'ip'            : 'uint32',\n",
    "        'app'           : 'uint16',\n",
    "        'device'        : 'uint16',\n",
    "        'os'            : 'uint16',\n",
    "        'channel'       : 'uint16',\n",
    "        'is_attributed' : 'uint8'\n",
    "        }"
   ]
  },
  {
   "cell_type": "code",
   "execution_count": 3,
   "metadata": {
    "_cell_guid": "79c7e3d0-c299-4dcb-8224-4455121ee9b0",
    "_uuid": "d629ff2d2480ee46fbb7e2d37f6b5fab8052498a"
   },
   "outputs": [
    {
     "name": "stdout",
     "output_type": "stream",
     "text": [
      "loading training data\n"
     ]
    }
   ],
   "source": [
    "print(\"loading training data\")\n",
    "train= pd.read_csv(path + \"train.csv\", skiprows=train_skip, dtype=dtypes, header=0, usecols=train_cols)\n",
    "test = pd.read_csv(path + \"test.csv\", dtype=dtypes, header=0, usecols=test_cols)"
   ]
  },
  {
   "cell_type": "code",
   "execution_count": 4,
   "metadata": {
    "_cell_guid": "da194fa3-94cc-43ba-9b58-ae689f930e14",
    "_uuid": "6d3bc6e13be1667baefdb6ebc2a70f4d291605ae"
   },
   "outputs": [
    {
     "data": {
      "text/plain": [
       "14"
      ]
     },
     "execution_count": 4,
     "metadata": {},
     "output_type": "execute_result"
    }
   ],
   "source": [
    "len_train = len(train)\n",
    "train=train.append(test)\n",
    "del test\n",
    "gc.collect()"
   ]
  },
  {
   "cell_type": "code",
   "execution_count": 5,
   "metadata": {
    "_uuid": "9511361c255654f2d2bdc8dea0e0aba5f56df075"
   },
   "outputs": [],
   "source": [
    "train['hour'] = pd.to_datetime(train.click_time).dt.hour.astype('uint8')\n",
    "train['day'] = pd.to_datetime(train.click_time).dt.day.astype('uint8')"
   ]
  },
  {
   "cell_type": "code",
   "execution_count": 8,
   "metadata": {
    "_cell_guid": "29382539-9bff-4f10-9623-ec374b7348b3",
    "_uuid": "bfc6e8d8626db3a5a02cb633819ce0a850cd116f"
   },
   "outputs": [
    {
     "name": "stdout",
     "output_type": "stream",
     "text": [
      "             ip  day  hour  n_channels\n",
      "0             0   10     4           2\n",
      "1             1    9     3           6\n",
      "2             1    9    10          11\n",
      "3             1    9    12           2\n",
      "4             1    9    13           1\n",
      "5             1    9    14           6\n",
      "6             1    9    15           2\n",
      "7             1   10     4           1\n",
      "8             2   10    10           1\n",
      "9             2   10    13           4\n",
      "10            3   10     4          10\n",
      "11            3   10     5          27\n",
      "12            3   10     9           6\n",
      "13            3   10    13           2\n",
      "14            3   10    14          19\n",
      "15            4   10    14           6\n",
      "16            5   10     5          21\n",
      "17            5   10    10           2\n",
      "18            5   10    13           2\n",
      "19            6    9     2          14\n",
      "20            6    9     3          26\n",
      "21            6    9     4          11\n",
      "22            6    9     5          55\n",
      "23            6    9     6          38\n",
      "24            6    9     7          41\n",
      "25            6    9     8          42\n",
      "26            6    9     9          74\n",
      "27            6    9    10          37\n",
      "28            6    9    11          26\n",
      "29            6    9    12           9\n",
      "...         ...  ...   ...         ...\n",
      "1069279  364766    9    10           1\n",
      "1069280  364767    9     7           3\n",
      "1069281  364767    9     8           3\n",
      "1069282  364768    9     4           3\n",
      "1069283  364769    9     8           1\n",
      "1069284  364770    9     3           1\n",
      "1069285  364770    9     4           1\n",
      "1069286  364771    9    10           3\n",
      "1069287  364772    9     4           1\n",
      "1069288  364773    9     9          10\n",
      "1069289  364773    9    15           2\n",
      "1069290  364774    9     6           3\n",
      "1069291  364775    9     3           6\n",
      "1069292  364775    9     6           1\n",
      "1069293  364775    9     9           5\n",
      "1069294  364775    9    10           4\n",
      "1069295  364775    9    11           5\n",
      "1069296  364775    9    13           1\n",
      "1069297  364776    9     6           9\n",
      "1069298  364776    9     7           2\n",
      "1069299  364776    9     8           1\n",
      "1069300  364776    9    10          58\n",
      "1069301  364776    9    11           2\n",
      "1069302  364776    9    12          39\n",
      "1069303  364776    9    13         112\n",
      "1069304  364776    9    14          18\n",
      "1069305  364776    9    15          23\n",
      "1069306  364777    9    13           4\n",
      "1069307  364778    9     8           1\n",
      "1069308  364778    9    14          15\n",
      "\n",
      "[1069309 rows x 4 columns]\n"
     ]
    }
   ],
   "source": [
    "n_chans = train[['ip','day','hour','channel']].groupby(by=['ip','day',\n",
    "          'hour'])[['channel']].count().reset_index().rename(columns={'channel': 'n_channels'})\n",
    "print(n_chans)"
   ]
  },
  {
   "cell_type": "code",
   "execution_count": 9,
   "metadata": {
    "_cell_guid": "d320e9b2-cfd3-4b68-80ce-ae85a8789dc2",
    "_uuid": "c9b949c7cc813a568bfa804a0130aed8c03d087b"
   },
   "outputs": [],
   "source": [
    "train = train.merge(n_chans, on=['ip', 'day', 'hour'], how='left')"
   ]
  },
  {
   "cell_type": "code",
   "execution_count": 10,
   "metadata": {},
   "outputs": [],
   "source": [
    "train = train.drop(['click_time', 'ip'], axis=1)"
   ]
  },
  {
   "cell_type": "code",
   "execution_count": 11,
   "metadata": {},
   "outputs": [],
   "source": [
    "train['n_channels'] = train['n_channels'].astype('uint16')"
   ]
  },
  {
   "cell_type": "code",
   "execution_count": 13,
   "metadata": {
    "_cell_guid": "4a7414ec-1978-4bf8-b854-e6e0ca75a24b",
    "_uuid": "2d0b7fd5213e9b1675cea225d01b1dc2761eae4e"
   },
   "outputs": [],
   "source": [
    "x = train.loc[:len_train - 1, train.columns != 'is_attributed']\n",
    "y = train.loc[:len_train - 1, train.columns == 'is_attributed']"
   ]
  },
  {
   "cell_type": "code",
   "execution_count": 16,
   "metadata": {},
   "outputs": [],
   "source": [
    "x_test = train.loc[len_train:, train.columns != 'is_attributed']"
   ]
  },
  {
   "cell_type": "code",
   "execution_count": 17,
   "metadata": {
    "_cell_guid": "6215942d-1ebe-4f3b-bc68-1e9a6f42aa47",
    "_uuid": "b9b41dab8a6135f2d41b34de186d8b9e1ff0ff0a"
   },
   "outputs": [],
   "source": [
    "x_train, x_test, y_train, y_test = train_test_split(x, y, test_size = 0.1, random_state=1)"
   ]
  },
  {
   "cell_type": "code",
   "execution_count": null,
   "metadata": {},
   "outputs": [],
   "source": [
    "tree = DecisionTreeClassifier(max_depth=5)\n",
    "model = AdaBoostClassifier(tree,\n",
    "                         algorithm=\"SAMME\",\n",
    "                         n_estimators=200)"
   ]
  },
  {
   "cell_type": "code",
   "execution_count": null,
   "metadata": {},
   "outputs": [
    {
     "name": "stderr",
     "output_type": "stream",
     "text": [
      "/Users/acw/anaconda3/lib/python3.6/site-packages/sklearn/utils/validation.py:578: DataConversionWarning: A column-vector y was passed when a 1d array was expected. Please change the shape of y to (n_samples, ), for example using ravel().\n",
      "  y = column_or_1d(y, warn=True)\n"
     ]
    }
   ],
   "source": [
    "model.fit(x_train, y_train)"
   ]
  },
  {
   "cell_type": "code",
   "execution_count": 23,
   "metadata": {},
   "outputs": [],
   "source": [
    "res = model.predict(x_test).astype(int)"
   ]
  },
  {
   "cell_type": "code",
   "execution_count": 26,
   "metadata": {},
   "outputs": [],
   "source": [
    "submit = pd.read_csv(path + \"test.csv\", dtype='int', usecols=['click_id'])\n",
    "submit['is_attributed'] = res"
   ]
  },
  {
   "cell_type": "code",
   "execution_count": 27,
   "metadata": {},
   "outputs": [],
   "source": [
    "submit.to_csv('submission.csv', index=False)"
   ]
  },
  {
   "cell_type": "code",
   "execution_count": null,
   "metadata": {},
   "outputs": [],
   "source": []
  }
 ],
 "metadata": {
  "kernelspec": {
   "display_name": "Python 3",
   "language": "python",
   "name": "python3"
  },
  "language_info": {
   "codemirror_mode": {
    "name": "ipython",
    "version": 3
   },
   "file_extension": ".py",
   "mimetype": "text/x-python",
   "name": "python",
   "nbconvert_exporter": "python",
   "pygments_lexer": "ipython3",
   "version": "3.6.4"
  }
 },
 "nbformat": 4,
 "nbformat_minor": 1
}
